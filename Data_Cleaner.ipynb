{
 "cells": [
  {
   "cell_type": "code",
   "execution_count": 1,
   "id": "bb1aa651",
   "metadata": {},
   "outputs": [],
   "source": [
    "import pandas as pd\n",
    "import numpy as np"
   ]
  },
  {
   "cell_type": "code",
   "execution_count": 33,
   "id": "972aae9c",
   "metadata": {},
   "outputs": [],
   "source": [
    "def data_clean(data):\n",
    "    data = data.drop(columns=[\"_RAJ2000\",\"_DEJ2000\",\"RAJ2000\",\"DEJ2000\",\"Dist\",\"RGal\",\"age\",\"b_age\",\"B_age\",\"L\",\"RV\",\"Tc\",\"Lc\"],axis=1)\n",
    "    data = data.iloc[2:]\n",
    "    data[\"SpType\"] = data[\"SpType\"].str.strip()\n",
    "    data[\"SpType\"] = data[\"SpType\"].str.upper()\n",
    "    data[\"SpType\"] = data[\"SpType\"].str[0]\n",
    "    \n",
    "    for x in ['E', '[', 'N', 'S', 'W', 'R', 'H', 'D']:\n",
    "        data = data[data[\"SpType\"] != x]\n",
    "        \n",
    "    cols = ['GLon', 'GLat', 'KMag', 'Lum']\n",
    "    \n",
    "    data[\"KMag\"] = data[\"KMag\"].replace(\"      \",-1)\n",
    "    \n",
    "    for i in cols:\n",
    "        print(i)\n",
    "        data[i] = pd.to_numeric(data[i])\n",
    "        \n",
    "    data.dropna(subset=[\"SpType\",\"Lum\"],how=\"all\",inplace=True)\n",
    "        \n",
    "    sttype = ['F', 'K', 'B', 'G', 'M', 'A']\n",
    "    kdata = data[data[\"KMag\"]!=-1]\n",
    "    kmean = kdata.groupby('SpType')['KMag'].mean()\n",
    "    for st in sttype:\n",
    "        stidx = data[data[\"SpType\"]==st].index\n",
    "        kidx = data[data[\"KMag\"]==-1].index\n",
    "        data.loc[np.intersect1d(stidx,kidx),\"KMag\"] = kmean[st]\n",
    "        \n",
    "    sttype.append(\"O\")\n",
    "    kdata = data[data[\"Lum\"].isna()]\n",
    "    stlum = {\n",
    "        \"F\":[1.5,5],\n",
    "        \"G\":[0.6,1.5],\n",
    "        \"K\":[0.08,0.6],\n",
    "        \"M\":[0,0.08],\n",
    "        \"A\":[5,25],\n",
    "        \"B\":[25,30000],\n",
    "        \"O\":[30000,100000]\n",
    "    }\n",
    "    for st in sttype:\n",
    "        data.loc[kdata[kdata[\"SpType\"]==st].index,\"Lum\"] = np.random.uniform(low=stlum[st][0], high=stlum[st][1])\n",
    "\n",
    "    data = data[data[\"SpType\"] != \"C\"]\n",
    "    data.dropna(subset=[\"SpType\",\"Lum\"],how=\"any\",inplace=True)\n",
    "\n",
    "    return data"
   ]
  },
  {
   "cell_type": "code",
   "execution_count": 38,
   "id": "9a73f07a",
   "metadata": {},
   "outputs": [
    {
     "name": "stdout",
     "output_type": "stream",
     "text": [
      "GLon\n",
      "GLat\n",
      "KMag\n",
      "Lum\n",
      "GLon\n",
      "GLat\n",
      "KMag\n",
      "Lum\n",
      "GLon\n",
      "GLat\n",
      "KMag\n",
      "Lum\n",
      "GLon\n",
      "GLat\n",
      "KMag\n",
      "Lum\n",
      "GLon\n",
      "GLat\n",
      "KMag\n",
      "Lum\n",
      "GLon\n",
      "GLat\n",
      "KMag\n",
      "Lum\n",
      "GLon\n",
      "GLat\n",
      "KMag\n",
      "Lum\n",
      "GLon\n",
      "GLat\n",
      "KMag\n",
      "Lum\n",
      "GLon\n",
      "GLat\n",
      "KMag\n",
      "Lum\n",
      "GLon\n",
      "GLat\n",
      "KMag\n",
      "Lum\n"
     ]
    }
   ],
   "source": [
    "readdata = pd.read_csv(\"./asu(3).tsv\",sep=\";\",nrows=100000)\n",
    "readdata.drop(columns=[\"Unnamed: 18\"],axis=1,inplace=True)\n",
    "for x in range(0,100000,10000):\n",
    "    data = data_clean(readdata[x:x+10000])\n",
    "    y = str((x//10000)+1)\n",
    "    data.to_csv(\"./data/stellar_data_\"+y+\".csv\",index=False)"
   ]
  },
  {
   "cell_type": "code",
   "execution_count": 37,
   "id": "a47d5420",
   "metadata": {},
   "outputs": [
    {
     "name": "stdout",
     "output_type": "stream",
     "text": [
      "1\n",
      "2\n",
      "3\n",
      "4\n",
      "5\n",
      "6\n",
      "7\n",
      "8\n",
      "9\n",
      "10\n"
     ]
    }
   ],
   "source": [
    "for x in range(0,100000,10000):\n",
    "    y = str((x//10000)+1)\n",
    "    print(y)"
   ]
  },
  {
   "cell_type": "code",
   "execution_count": 32,
   "id": "baedd231",
   "metadata": {},
   "outputs": [],
   "source": [
    "data.to_csv(\"./data/stellar_data_full.csv\",index=False)"
   ]
  },
  {
   "cell_type": "code",
   "execution_count": 16,
   "id": "43246414",
   "metadata": {},
   "outputs": [],
   "source": [
    "import os"
   ]
  },
  {
   "cell_type": "code",
   "execution_count": 20,
   "id": "328bd5a4",
   "metadata": {},
   "outputs": [],
   "source": [
    "files = os.listdir(\"./data/\")"
   ]
  },
  {
   "cell_type": "code",
   "execution_count": 23,
   "id": "1194a373",
   "metadata": {},
   "outputs": [
    {
     "data": {
      "text/plain": [
       "[None, None, None]"
      ]
     },
     "execution_count": 23,
     "metadata": {},
     "output_type": "execute_result"
    }
   ],
   "source": [
    "[files.remove(x) for x in [\"original\",\"total_data.csv\",\"stellar_data.csv\"]]"
   ]
  },
  {
   "cell_type": "code",
   "execution_count": 26,
   "id": "3f01d14a",
   "metadata": {},
   "outputs": [],
   "source": [
    "df = pd.DataFrame()\n",
    "for item in files:\n",
    "    df = df.append(pd.read_csv(\"./data/\"+item))"
   ]
  },
  {
   "cell_type": "code",
   "execution_count": 29,
   "id": "2d812d98",
   "metadata": {},
   "outputs": [],
   "source": [
    "df.to_csv(\"./data/stellar_data_full.csv\",index=None)"
   ]
  },
  {
   "cell_type": "code",
   "execution_count": null,
   "id": "878b2712",
   "metadata": {},
   "outputs": [],
   "source": []
  },
  {
   "cell_type": "code",
   "execution_count": 212,
   "id": "36f1f776",
   "metadata": {},
   "outputs": [],
   "source": [
    "# data[\"Lc\"] = data[\"Lc\"].replace(\" \",-1)\n",
    "# data[\"Tc\"] = data[\"Tc\"].replace(\"   \",-1)"
   ]
  }
 ],
 "metadata": {
  "kernelspec": {
   "display_name": "Python 3 (ipykernel)",
   "language": "python",
   "name": "python3"
  },
  "language_info": {
   "codemirror_mode": {
    "name": "ipython",
    "version": 3
   },
   "file_extension": ".py",
   "mimetype": "text/x-python",
   "name": "python",
   "nbconvert_exporter": "python",
   "pygments_lexer": "ipython3",
   "version": "3.8.8"
  }
 },
 "nbformat": 4,
 "nbformat_minor": 5
}
